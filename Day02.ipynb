{
 "cells": [
  {
   "cell_type": "markdown",
   "metadata": {},
   "source": [
    "### Data Types"
   ]
  },
  {
   "cell_type": "code",
   "execution_count": 9,
   "metadata": {},
   "outputs": [
    {
     "data": {
      "text/plain": [
       "'H'"
      ]
     },
     "execution_count": 9,
     "metadata": {},
     "output_type": "execute_result"
    }
   ],
   "source": [
    "# String\n",
    "\"Hello\"[0]"
   ]
  },
  {
   "cell_type": "code",
   "execution_count": 10,
   "metadata": {},
   "outputs": [
    {
     "name": "stdout",
     "output_type": "stream",
     "text": [
      "123345\n"
     ]
    }
   ],
   "source": [
    "# string concat\n",
    "print(\"123\"+\"345\")"
   ]
  },
  {
   "cell_type": "code",
   "execution_count": 11,
   "metadata": {},
   "outputs": [
    {
     "name": "stdout",
     "output_type": "stream",
     "text": [
      "1554\n"
     ]
    }
   ],
   "source": [
    "# Int = Whole number\n",
    "print(567 +987)"
   ]
  },
  {
   "cell_type": "code",
   "execution_count": 12,
   "metadata": {},
   "outputs": [
    {
     "data": {
      "text/plain": [
       "3.14"
      ]
     },
     "execution_count": 12,
     "metadata": {},
     "output_type": "execute_result"
    }
   ],
   "source": [
    "# Float\n",
    "3.14"
   ]
  },
  {
   "cell_type": "code",
   "execution_count": 13,
   "metadata": {},
   "outputs": [
    {
     "data": {
      "text/plain": [
       "(True, False)"
      ]
     },
     "execution_count": 13,
     "metadata": {},
     "output_type": "execute_result"
    }
   ],
   "source": [
    "# Boolean\n",
    "True, False"
   ]
  },
  {
   "cell_type": "code",
   "execution_count": 16,
   "metadata": {},
   "outputs": [
    {
     "data": {
      "text/plain": [
       "3"
      ]
     },
     "execution_count": 16,
     "metadata": {},
     "output_type": "execute_result"
    }
   ],
   "source": [
    "# Chnage int to str -> len\n",
    "len(\"123\")"
   ]
  },
  {
   "cell_type": "code",
   "execution_count": 26,
   "metadata": {},
   "outputs": [
    {
     "name": "stdout",
     "output_type": "stream",
     "text": [
      "Hello is : <class 'str'>\n",
      "123 is : <class 'int'>\n",
      "3.14 is : <class 'float'>\n",
      "True is : <class 'bool'>\n"
     ]
    }
   ],
   "source": [
    "# Data Type\n",
    "\n",
    "print(\"Hello is :\",type(\"Hello\"))\n",
    "print(\"123 is :\",type(123))\n",
    "print(\"3.14 is :\",type(3.14))\n",
    "print(\"True is :\",type(True))"
   ]
  },
  {
   "cell_type": "code",
   "execution_count": 27,
   "metadata": {},
   "outputs": [
    {
     "name": "stdout",
     "output_type": "stream",
     "text": [
      "579\n"
     ]
    }
   ],
   "source": [
    "# type conversion\n",
    "\n",
    "print(int(\"123\")+int(\"456\"))"
   ]
  },
  {
   "cell_type": "code",
   "execution_count": null,
   "metadata": {},
   "outputs": [
    {
     "name": "stdout",
     "output_type": "stream",
     "text": [
      "Enter your Name: Junaid <class 'str'>\n",
      "Letters in your name: 6 <class 'int'>\n",
      "Number of Letter in name:6\n"
     ]
    }
   ],
   "source": [
    "# type coversion\n",
    "name = input(\"Enter your Name: \")\n",
    "print(\"Enter your Name:\", name, type(name))  \n",
    "\n",
    "length_of_name = len(name)  # Ensure 'len' is not overridden\n",
    "print(\"Letters in your name:\",length_of_name, type(length_of_name))  \n",
    "\n",
    "print(\"Number of Letter in name:\" + str(length_of_name))"
   ]
  },
  {
   "cell_type": "code",
   "execution_count": 26,
   "metadata": {},
   "outputs": [
    {
     "name": "stdout",
     "output_type": "stream",
     "text": [
      "My age is :12\n",
      "579\n",
      "5\n",
      "15\n",
      "2.0\n",
      "2\n",
      "8\n"
     ]
    }
   ],
   "source": [
    "# Operators PEMDAS rule\n",
    "\n",
    "print(\"My age is :\" + str(12))\n",
    "print(123+456)\n",
    "print(7-2)\n",
    "print(5*3)\n",
    "print(4/2) #float\n",
    "print(4//2)#int\n",
    "print(2**3)#exponent\n"
   ]
  },
  {
   "cell_type": "code",
   "execution_count": 33,
   "metadata": {},
   "outputs": [
    {
     "name": "stdout",
     "output_type": "stream",
     "text": [
      "30.85399449035813\n",
      "30\n",
      "31\n",
      "30.85\n"
     ]
    }
   ],
   "source": [
    "#Round Operation and Decimal point\n",
    "\n",
    "bmi = 84/1.65 **2\n",
    "print(bmi)\n",
    "print(int(bmi))\n",
    "print(round(bmi))\n",
    "print(round(bmi,2))"
   ]
  },
  {
   "cell_type": "code",
   "execution_count": 35,
   "metadata": {},
   "outputs": [
    {
     "name": "stdout",
     "output_type": "stream",
     "text": [
      "1\n",
      "your score is :1\n"
     ]
    }
   ],
   "source": [
    "# Assignment operator\n",
    "\n",
    "score = 0\n",
    "\n",
    "score += 1\n",
    "print(score)\n",
    "\n",
    "# f-string\n",
    "\n",
    "print(\"your score is :\"+str(score))\n"
   ]
  },
  {
   "cell_type": "code",
   "execution_count": 40,
   "metadata": {},
   "outputs": [
    {
     "name": "stdout",
     "output_type": "stream",
     "text": [
      "Your score is:0,\n",
      "Your height is 1.8,\n",
      "Your winning is True\n"
     ]
    }
   ],
   "source": [
    "score = 0\n",
    "height = 1.8\n",
    "is_winning = True\n",
    "\n",
    "print(f\"Your score is:{score},\\nYour height is {height},\\nYour winning is {is_winning}\")\n"
   ]
  },
  {
   "cell_type": "code",
   "execution_count": 83,
   "metadata": {},
   "outputs": [
    {
     "name": "stdout",
     "output_type": "stream",
     "text": [
      "Welcome to Tip Calculator\n",
      "The total bill is: 3000.0 PKR\n",
      "Number of People : 4\n",
      "Tip : 150.0 PKR\n",
      "Each Person should pay: 787.5 PKR\n"
     ]
    }
   ],
   "source": [
    "''' Project -> Tip Calculator\n",
    "1) Total Bill\n",
    "2) How much Tip \n",
    "3) Split bill among people\n",
    "4) Each should pay'''\n",
    "\n",
    "total_bill = float(input(\"Enter the total bill:\"))\n",
    "people = int(input(\"Number of People:\"))\n",
    "tip = round(total_bill * 0.20 / people,2)\n",
    "\n",
    "print(\"Welcome to Tip Calculator\")\n",
    "\n",
    "\n",
    "print(\"The total bill is:\", total_bill,\"PKR\")\n",
    "print(\"Number of People :\", people)\n",
    "print(\"Tip :\",tip,\"PKR\")\n",
    "print(\"Each Person should pay:\", round((tip + total_bill)/ people,2),\"PKR\")"
   ]
  },
  {
   "cell_type": "code",
   "execution_count": null,
   "metadata": {},
   "outputs": [],
   "source": []
  }
 ],
 "metadata": {
  "kernelspec": {
   "display_name": "Python 3",
   "language": "python",
   "name": "python3"
  },
  "language_info": {
   "codemirror_mode": {
    "name": "ipython",
    "version": 3
   },
   "file_extension": ".py",
   "mimetype": "text/x-python",
   "name": "python",
   "nbconvert_exporter": "python",
   "pygments_lexer": "ipython3",
   "version": "3.13.1"
  }
 },
 "nbformat": 4,
 "nbformat_minor": 2
}
