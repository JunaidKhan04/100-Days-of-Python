{
 "cells": [
  {
   "cell_type": "markdown",
   "metadata": {},
   "source": [
    "### Conditions"
   ]
  },
  {
   "cell_type": "code",
   "execution_count": 5,
   "metadata": {},
   "outputs": [
    {
     "name": "stdout",
     "output_type": "stream",
     "text": [
      "You can run for rollercoaster\n"
     ]
    }
   ],
   "source": [
    "#if & else\n",
    "\n",
    "height = int(input(\"Enter your eight in cm:\"))\n",
    "if height >= 120:\n",
    "    print(\"You can run for rollercoaster\")\n",
    "else:\n",
    "    print(\"Sorry! you can't run\")"
   ]
  },
  {
   "cell_type": "code",
   "execution_count": null,
   "metadata": {},
   "outputs": [
    {
     "name": "stdout",
     "output_type": "stream",
     "text": [
      "Number : 18 Even number\n"
     ]
    }
   ],
   "source": [
    "# Modulo Operator\n",
    "\n",
    "number = int(input(\"What is the number you want to check:\"))\n",
    "\n",
    "if number % 2 ==0:\n",
    "    print(\"Number :\",number,\"Even number\")\n",
    "else:\n",
    "    print(\"Number :\",number,\"Odd Number\")"
   ]
  },
  {
   "cell_type": "code",
   "execution_count": null,
   "metadata": {},
   "outputs": [
    {
     "name": "stdout",
     "output_type": "stream",
     "text": [
      "You can run for rollercoaster\n",
      "Pay 12 $ ticket\n"
     ]
    }
   ],
   "source": [
    "# Nested if & else\n",
    "\n",
    "height = int(input(\"Enter your eight in cm:\"))\n",
    "if height >= 120:\n",
    "    print(\"You can run for rollercoaster\")\n",
    "    age = int(input(\"Enter age:\"))\n",
    "    \n",
    "    if age <= 12:\n",
    "        print(\"Please pay 7$ ticket\")\n",
    "      \n",
    "    elif age <= 18:\n",
    "        print(\"Please pay 10$ ticket\")\n",
    "    else:\n",
    "        print(\"Pay 12 $ ticket\")  \n",
    "        \n",
    "else:\n",
    "    print(\"Sorry! you can't run\")"
   ]
  },
  {
   "cell_type": "code",
   "execution_count": 36,
   "metadata": {},
   "outputs": [
    {
     "name": "stdout",
     "output_type": "stream",
     "text": [
      "You can run for rollercoaster\n",
      " 12 $ ticket\n",
      "your final bill is 12\n"
     ]
    }
   ],
   "source": [
    "# Multiple if\n",
    "\n",
    "# Nested if & else\n",
    "\n",
    "height = int(input(\"Enter your eight in cm:\"))\n",
    "bill = 0\n",
    "\n",
    "if height >= 120:\n",
    "    print(\"You can run for rollercoaster\")\n",
    "    age = int(input(\"Enter age:\"))\n",
    "    \n",
    "    if age <= 12:\n",
    "        bill= 7\n",
    "        print(\" 7$ ticket\")\n",
    "      \n",
    "    elif age <= 18:\n",
    "        bill = 10\n",
    "        print(\"10$ ticket\")\n",
    "    else:\n",
    "        bill = 12\n",
    "        print(\" 12 $ ticket\")  \n",
    "        \n",
    "    photo = input(\"Do you want a photo? y or n\")\n",
    "    if photo == \"y\":\n",
    "        # add 3$ to bill\n",
    "        bill += 3\n",
    "    print(f\"your final bill is {bill}\")\n",
    "\n",
    "else:\n",
    "    print(\"Sorry! you can't run\")"
   ]
  },
  {
   "cell_type": "markdown",
   "metadata": {},
   "source": [
    "### Project Pizza Deliveries\n"
   ]
  },
  {
   "cell_type": "code",
   "execution_count": 49,
   "metadata": {},
   "outputs": [
    {
     "name": "stdout",
     "output_type": "stream",
     "text": [
      "Welcome ro Python Pizza Deliveries\n",
      "Your final bill is 29$.\n"
     ]
    }
   ],
   "source": [
    "print(\"Welcome to Python Pizza Deliveries\")\n",
    "\n",
    "size = input(\"What size of pizza do you want? (s, m, l): \").lower()\n",
    "pepperoni = input(\"Do you want pepperoni on your pizza? (y/n): \").lower()\n",
    "extra_cheese = input(\"Do you want extra cheese? (y/n): \").lower()\n",
    "\n",
    "bill = 0\n",
    "\n",
    "if size == \"s\":\n",
    "    bill += 15\n",
    "elif size == \"m\":\n",
    "    bill += 25\n",
    "elif size == \"l\":\n",
    "    bill += 35\n",
    "else:\n",
    "    print(\"You typed the wrong input\")\n",
    "    exit()  # Stop execution if size is invalid\n",
    "\n",
    "if pepperoni == \"y\":\n",
    "    if size == \"s\":\n",
    "        bill += 2\n",
    "    else:\n",
    "        bill += 3\n",
    "\n",
    "if extra_cheese == \"y\":\n",
    "    bill += 1\n",
    "\n",
    "print(f\"Your final bill is ${bill}.\")  \n"
   ]
  },
  {
   "cell_type": "code",
   "execution_count": 51,
   "metadata": {},
   "outputs": [
    {
     "name": "stdout",
     "output_type": "stream",
     "text": [
      "You are allowed to enter.\n",
      "You are eligible for a student discount.\n",
      "Great! Let's proceed.\n"
     ]
    }
   ],
   "source": [
    "# Logical Operators (AND, OR, NOT)\n",
    "\n",
    "age = int(input(\"Enter your age: \"))\n",
    "has_id = input(\"Do you have an ID? (y/n): \").lower() == \"y\"\n",
    "\n",
    "# Using AND\n",
    "if age >= 18 and has_id:\n",
    "    print(\"You are allowed to enter.\")\n",
    "else:\n",
    "    print(\"Access denied.\")\n",
    "\n",
    "# Using OR\n",
    "is_student = input(\"Are you a student? (y/n): \").lower() == \"y\"\n",
    "\n",
    "if age < 18 or is_student:\n",
    "    print(\"You are eligible for a student discount.\")\n",
    "else:\n",
    "    print(\"No discount available.\")\n",
    "\n",
    "# Using NOT\n",
    "wants_to_continue = input(\"Do you want to continue? (y/n): \").lower() == \"n\"\n",
    "\n",
    "if not wants_to_continue:\n",
    "    print(\"Great! Let's proceed.\")\n",
    "else:\n",
    "    print(\"Exiting the program.\")\n",
    "\n"
   ]
  },
  {
   "cell_type": "code",
   "execution_count": 53,
   "metadata": {},
   "outputs": [
    {
     "name": "stdout",
     "output_type": "stream",
     "text": [
      "B\n"
     ]
    }
   ],
   "source": [
    "a = 5\n",
    "b = 7\n",
    " \n",
    "if a >= b and a != b:\n",
    "    print(\"A\")\n",
    "elif not a >= b and a != b:\n",
    "    print(\"B\")\n",
    "else:\n",
    "    print(\"C\")"
   ]
  },
  {
   "cell_type": "markdown",
   "metadata": {},
   "source": [
    "### Project -> Treasure Island"
   ]
  },
  {
   "cell_type": "code",
   "execution_count": 55,
   "metadata": {},
   "outputs": [
    {
     "name": "stdout",
     "output_type": "stream",
     "text": [
      "Welcome to Treasure Island!\n",
      "Your mission is to find the treasure.\n",
      "🎉 Congratulations! You found the treasure! You win! 🏆\n"
     ]
    }
   ],
   "source": [
    "print(\"Welcome to Treasure Island!\")\n",
    "print(\"Your mission is to find the treasure.\")\n",
    "\n",
    "# First decision\n",
    "choice1 = input(\"You're at a crossroad. Where do you want to go? Type 'left' or 'right': \").lower()\n",
    "\n",
    "if choice1 == \"left\":\n",
    "    # Second decision\n",
    "    choice2 = input(\"You arrive at a lake. Do you wait for a boat or swim across? Type 'wait' or 'swim': \").lower()\n",
    "    \n",
    "    if choice2 == \"wait\":\n",
    "        # Third decision\n",
    "        choice3 = input(\"You reach the island safely. There are three doors: Red, Blue, and Yellow. Which one do you choose? \").lower()\n",
    "        \n",
    "        if choice3 == \"yellow\":\n",
    "            print(\"🎉 Congratulations! You found the treasure! You win! 🏆\")\n",
    "        elif choice3 == \"red\":\n",
    "            print(\"🔥 You entered a room of fire. Game over. ❌\")\n",
    "        elif choice3 == \"blue\":\n",
    "            print(\"👾 A beast attacked you. Game over. ❌\")\n",
    "        else:\n",
    "            print(\"🚪 You chose a door that doesn't exist. Game over. ❌\")\n",
    "    \n",
    "    else:\n",
    "        print(\"🐊 You were attacked by crocodiles. Game over. ❌\")\n",
    "\n",
    "else:\n",
    "    print(\"🌪️ You fell into a hole. Game over. ❌\")\n"
   ]
  },
  {
   "cell_type": "code",
   "execution_count": null,
   "metadata": {},
   "outputs": [],
   "source": []
  }
 ],
 "metadata": {
  "kernelspec": {
   "display_name": "Python 3",
   "language": "python",
   "name": "python3"
  },
  "language_info": {
   "codemirror_mode": {
    "name": "ipython",
    "version": 3
   },
   "file_extension": ".py",
   "mimetype": "text/x-python",
   "name": "python",
   "nbconvert_exporter": "python",
   "pygments_lexer": "ipython3",
   "version": "3.13.1"
  }
 },
 "nbformat": 4,
 "nbformat_minor": 2
}
